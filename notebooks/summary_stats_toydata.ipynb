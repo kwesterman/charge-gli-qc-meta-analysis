{
 "cells": [
  {
   "cell_type": "code",
   "execution_count": 1,
   "metadata": {},
   "outputs": [],
   "source": [
    "import numpy as np\n",
    "import pandas as pd\n",
    "np.random.seed(42)\n",
    "import matplotlib.pyplot as plt\n",
    "\n"
   ]
  },
  {
   "cell_type": "code",
   "execution_count": 2,
   "metadata": {},
   "outputs": [],
   "source": [
    "# Parameters for simulation\n",
    "df = pd.DataFrame()\n",
    "num_variants = 100000\n",
    "n_simulations = 1000  \n",
    "effect_size_mean = 0.5  # Mean effect size\n",
    "effect_size_std = 0.2  # Standard deviation of effect sizes\n",
    "maf_mean = 0.3  # Mean Minor Allele Frequency (MAF)\n",
    "maf_std = 0.1  # Standard deviation of MAF\n",
    "coef_mean = 0.2  # Mean coefficient estimate\n",
    "coef_std = 0.05  # Standard deviation of coefficient estimates\n"
   ]
  },
  {
   "cell_type": "code",
   "execution_count": 7,
   "metadata": {},
   "outputs": [],
   "source": [
    "\n",
    "# Generate fake effect size data\n",
    "df['effect_size'] = np.random.normal(loc=effect_size_mean, scale=effect_size_std, size=n_simulations)\n",
    "\n",
    "# Generate fake p-values using a uniform distribution\n",
    "df['p_value'] = np.random.uniform(0, 1, size=n_simulations)\n",
    "\n",
    "\n",
    "# Generate fake MAFs using a normal distribution\n",
    "mafs = np.random.normal(loc=maf_mean, scale=maf_std, size=n_simulations)\n",
    "df['maf'] = np.clip(mafs, 0, 0.5)  # Clip MAFs to the [0, 0.5] range\n",
    "\n",
    "# Generate fake coefficient estimates using a normal distribution\n",
    "df['Beta_G'] = np.random.normal(loc=coef_mean, scale=coef_std, size=n_simulations)\n"
   ]
  },
  {
   "cell_type": "code",
   "execution_count": 8,
   "metadata": {},
   "outputs": [
    {
     "data": {
      "text/plain": [
       "(array([107.,  99.,  91.,  87., 101., 100., 114., 102., 106.,  93.]),\n",
       " array([0.00321826, 0.10283781, 0.20245736, 0.3020769 , 0.40169645,\n",
       "        0.50131599, 0.60093554, 0.70055509, 0.80017463, 0.89979418,\n",
       "        0.99941373]),\n",
       " <BarContainer object of 10 artists>)"
      ]
     },
     "execution_count": 8,
     "metadata": {},
     "output_type": "execute_result"
    },
    {
     "data": {
      "image/png": "[encoded data removed]",
      "text/plain": [
       "<Figure size 640x480 with 1 Axes>"
      ]
     },
     "metadata": {},
     "output_type": "display_data"
    }
   ],
   "source": [
    "plt.hist(df['p_value'])"
   ]
  },
  {
   "cell_type": "code",
   "execution_count": 15,
   "metadata": {},
   "outputs": [],
   "source": [
    "df.to_csv('gs://fc-e4b9029b-bcb4-41b6-8edc-5b37e7719bf5/sleep_lipids_files/mock_summary.csv')"
   ]
  },
  {
   "cell_type": "code",
   "execution_count": 13,
   "metadata": {},
   "outputs": [],
   "source": [
    "import numpy as np\n",
    "from scipy.stats import t\n",
    "\n",
    "# Set random seed for reproducibility\n",
    "np.random.seed(42)\n",
    "\n",
    "# Parameters for simulation\n",
    "n_samples = 1000  # Number of samples per group and cohort\n",
    "cohorts = ['Cohort1', 'Cohort2']\n",
    "populations = ['Pop1', 'Pop2', 'Pop3']\n",
    "groups = ['Male', 'Female']\n",
    "exposures = ['Exp1']\n",
    "outcomes = ['Out1']\n",
    "alpha = 0.05  # Significance level\n",
    "\n",
    "# Simulate fake data\n",
    "fake_data = {}\n",
    "for cohort in cohorts:\n",
    "    for group in groups:\n",
    "        for pop in populations:\n",
    "            for exposure in exposures:\n",
    "                for outcome in outcomes: (instead of one data point; generate summary stats using a func; i.e 1000 data points for this loop)\n",
    "                    key = f'{cohort}_{group}_{pop}_{exposure}_{outcome}'\n",
    "                    n = n_samples\n",
    "                    mean = np.random.uniform(-1, 1)\n",
    "                    std_dev = np.random.uniform(0.5, 1.5)\n",
    "                    data = np.random.normal(loc=mean, scale=std_dev, size=n)\n",
    "                    fake_data[key] = data\n",
    "\n",
    "# Calculate fake summary statistics\n",
    "fake_results = {}\n",
    "for key, data in fake_data.items():\n",
    "    cohort, group, pop, exposure, outcome = key.split('_')\n",
    "    n = len(data)\n",
    "\n",
    "    # Perform t-test\n",
    "    t_statistic, p_value = ttest_ind(data, np.zeros(n))\n",
    "\n",
    "    # Calculate effect size (Cohen's d)\n",
    "    cohens_d = np.mean(data) / np.std(data)\n",
    "\n",
    "    # Generate a fake beta coefficient\n",
    "    beta_coefficient = np.random.uniform(-0.5, 0.5)\n",
    "\n",
    "    fake_results[key] = {\n",
    "        'Cohort': cohort,\n",
    "        'Group': group,\n",
    "        'Population': pop,\n",
    "        'Exposure': exposure,\n",
    "        'Outcome': outcome,\n",
    "        'Beta Coefficient': beta_coefficient,\n",
    "        'Effect Size (Cohen\\'s d)': cohens_d,\n",
    "        'p-value': p_value\n",
    "    }\n",
    "\n",
    "results_df = pd.DataFrame.from_dict(fake_results, orient='index')\n"
   ]
  },
  {
   "cell_type": "code",
   "execution_count": 14,
   "metadata": {},
   "outputs": [
    {
     "data": {
      "text/html": [
       "<div>\n",
       "<style scoped>\n",
       "    .dataframe tbody tr th:only-of-type {\n",
       "        vertical-align: middle;\n",
       "    }\n",
       "\n",
       "    .dataframe tbody tr th {\n",
       "        vertical-align: top;\n",
       "    }\n",
       "\n",
       "    .dataframe thead th {\n",
       "        text-align: right;\n",
       "    }\n",
       "</style>\n",
       "<table border=\"1\" class=\"dataframe\">\n",
       "  <thead>\n",
       "    <tr style=\"text-align: right;\">\n",
       "      <th></th>\n",
       "      <th>Cohort</th>\n",
       "      <th>Group</th>\n",
       "      <th>Population</th>\n",
       "      <th>Exposure</th>\n",
       "      <th>Outcome</th>\n",
       "      <th>Beta Coefficient</th>\n",
       "      <th>Effect Size (Cohen's d)</th>\n",
       "      <th>p-value</th>\n",
       "    </tr>\n",
       "  </thead>\n",
       "  <tbody>\n",
       "    <tr>\n",
       "      <th>Cohort1_Male_Pop1_Exp1_Out1</th>\n",
       "      <td>Cohort1</td>\n",
       "      <td>Male</td>\n",
       "      <td>Pop1</td>\n",
       "      <td>Exp1</td>\n",
       "      <td>Out1</td>\n",
       "      <td>0.282988</td>\n",
       "      <td>-0.154763</td>\n",
       "      <td>1.080287e-06</td>\n",
       "    </tr>\n",
       "    <tr>\n",
       "      <th>Cohort1_Male_Pop2_Exp1_Out1</th>\n",
       "      <td>Cohort1</td>\n",
       "      <td>Male</td>\n",
       "      <td>Pop2</td>\n",
       "      <td>Exp1</td>\n",
       "      <td>Out1</td>\n",
       "      <td>-0.319224</td>\n",
       "      <td>-0.586945</td>\n",
       "      <td>5.185226e-71</td>\n",
       "    </tr>\n",
       "    <tr>\n",
       "      <th>Cohort1_Male_Pop3_Exp1_Out1</th>\n",
       "      <td>Cohort1</td>\n",
       "      <td>Male</td>\n",
       "      <td>Pop3</td>\n",
       "      <td>Exp1</td>\n",
       "      <td>Out1</td>\n",
       "      <td>0.300158</td>\n",
       "      <td>-0.495099</td>\n",
       "      <td>3.721814e-52</td>\n",
       "    </tr>\n",
       "    <tr>\n",
       "      <th>Cohort1_Female_Pop1_Exp1_Out1</th>\n",
       "      <td>Cohort1</td>\n",
       "      <td>Female</td>\n",
       "      <td>Pop1</td>\n",
       "      <td>Exp1</td>\n",
       "      <td>Out1</td>\n",
       "      <td>0.141737</td>\n",
       "      <td>-0.497280</td>\n",
       "      <td>1.416255e-52</td>\n",
       "    </tr>\n",
       "    <tr>\n",
       "      <th>Cohort1_Female_Pop2_Exp1_Out1</th>\n",
       "      <td>Cohort1</td>\n",
       "      <td>Female</td>\n",
       "      <td>Pop2</td>\n",
       "      <td>Exp1</td>\n",
       "      <td>Out1</td>\n",
       "      <td>0.168952</td>\n",
       "      <td>-0.083108</td>\n",
       "      <td>8.684934e-03</td>\n",
       "    </tr>\n",
       "  </tbody>\n",
       "</table>\n",
       "</div>"
      ],
      "text/plain": [
       "                                Cohort   Group Population Exposure Outcome  \\\n",
       "Cohort1_Male_Pop1_Exp1_Out1    Cohort1    Male       Pop1     Exp1    Out1   \n",
       "Cohort1_Male_Pop2_Exp1_Out1    Cohort1    Male       Pop2     Exp1    Out1   \n",
       "Cohort1_Male_Pop3_Exp1_Out1    Cohort1    Male       Pop3     Exp1    Out1   \n",
       "Cohort1_Female_Pop1_Exp1_Out1  Cohort1  Female       Pop1     Exp1    Out1   \n",
       "Cohort1_Female_Pop2_Exp1_Out1  Cohort1  Female       Pop2     Exp1    Out1   \n",
       "\n",
       "                               Beta Coefficient  Effect Size (Cohen's d)  \\\n",
       "Cohort1_Male_Pop1_Exp1_Out1            0.282988                -0.154763   \n",
       "Cohort1_Male_Pop2_Exp1_Out1           -0.319224                -0.586945   \n",
       "Cohort1_Male_Pop3_Exp1_Out1            0.300158                -0.495099   \n",
       "Cohort1_Female_Pop1_Exp1_Out1          0.141737                -0.497280   \n",
       "Cohort1_Female_Pop2_Exp1_Out1          0.168952                -0.083108   \n",
       "\n",
       "                                    p-value  \n",
       "Cohort1_Male_Pop1_Exp1_Out1    1.080287e-06  \n",
       "Cohort1_Male_Pop2_Exp1_Out1    5.185226e-71  \n",
       "Cohort1_Male_Pop3_Exp1_Out1    3.721814e-52  \n",
       "Cohort1_Female_Pop1_Exp1_Out1  1.416255e-52  \n",
       "Cohort1_Female_Pop2_Exp1_Out1  8.684934e-03  "
      ]
     },
     "execution_count": 14,
     "metadata": {},
     "output_type": "execute_result"
    }
   ],
   "source": [
    "results_df.head()"
   ]
  },
  {
   "cell_type": "code",
   "execution_count": null,
   "metadata": {},
   "outputs": [],
   "source": [
    "define a vector of variants (100,000) call them rsid; and keep this constant across all files;Beta coeff can be drawn from normal distribution centered around 0; gamma distribution standard errors (or variances); effect size for a vrainat in a population\n"
   ]
  },
  {
   "cell_type": "code",
   "execution_count": null,
   "metadata": {},
   "outputs": [],
   "source": [
    "SNPID              - The SNP identifier as retrieved from the genotype file.\n",
    "RSID               - The reference SNP ID number. (BGEN only)\n",
    "CHR                - The chromosome of the SNP.\n",
    "POS                - The physical position of the SNP.\n",
    "Non_Effect_Allele  - The allele not counted in association testing.  \n",
    "Effect_Allele      - The allele that is counted in association testing. \n",
    "\n",
    "\n",
    "These are constant across all runs; generate allele frequency (and maf)"
   ]
  },
  {
   "cell_type": "code",
   "execution_count": 3,
   "metadata": {},
   "outputs": [
    {
     "name": "stdout",
     "output_type": "stream",
     "text": [
      "  rsid  CHR      POS Non_Effect_Allele Effect_Allele\n",
      "0  rs1    7  1003623                 A             A\n",
      "1  rs2   20  1006556                 A             G\n",
      "2  rs3   15  1006941                 G             C\n",
      "3  rs4   11  1008464                 T             G\n",
      "4  rs5    8  1009772                 T             A\n"
     ]
    }
   ],
   "source": [
    "# Number of variants\n",
    "num_variants = 100000\n",
    "\n",
    "# Simulate data\n",
    "rsid = ['rs' + str(i) for i in range(1, num_variants + 1)]\n",
    "chr_list = np.random.choice(range(1, 22), size=num_variants)\n",
    "pos_list = np.sort(np.random.randint(1000000, 300000000, size=num_variants))\n",
    "non_effect_alleles = np.random.choice(['A', 'C', 'G', 'T'], size=num_variants)\n",
    "effect_alleles = np.random.choice(['A', 'C', 'G', 'T'], size=num_variants)\n",
    "\n",
    "# Create a DataFrame\n",
    "data = {\n",
    "    'rsid': rsid,\n",
    "    'CHR': chr_list,\n",
    "    'POS': pos_list,\n",
    "    'Non_Effect_Allele': non_effect_alleles,\n",
    "    'Effect_Allele': effect_alleles\n",
    "}\n",
    "\n",
    "df = pd.DataFrame(data)\n",
    "\n",
    "print(df.head())\n"
   ]
  },
  {
   "cell_type": "code",
   "execution_count": 7,
   "metadata": {},
   "outputs": [],
   "source": [
    "# Define the lists for different categories\n",
    "cohorts = ['cohort1', 'cohort2']\n",
    "groups = ['male', 'female', 'combined']\n",
    "populations = ['pop1', 'pop2', 'pop3']\n",
    "exposures = ['exp1']\n",
    "outcomes = ['out1']\n",
    "shape = 2.0\n",
    "scale = 2.0\n",
    "\n",
    "\n",
    "# Generate fake summary statistics\n",
    "def generate_summary_stats(num_variants):\n",
    "    beta_coefficient = np.random.uniform(-0.5, 0.5)\n",
    "    mafs = np.random.normal(loc=maf_mean, scale=maf_std, size=num_variants) #MAF = 1- major af \n",
    "    MAF = np.clip(mafs, 0, 0.5)  # Clip MAFs to the [0, 0.5] range\n",
    "    se = np.random.gamma(shape, scale, size =num_variants)\n",
    "    p_value = np.random.uniform(0, 1, size=num_variants)\n",
    "    effect_size = beta_coefficient / se # this is the z statistic # effect siz eis the same as beta coef\n",
    "    \n",
    "    return beta_coefficient, se, p_value, effect_size, MAF\n",
    "\n"
   ]
  },
  {
   "cell_type": "code",
   "execution_count": 8,
   "metadata": {},
   "outputs": [
    {
     "name": "stdout",
     "output_type": "stream",
     "text": [
      "cohort1_male_pop1_exp1_out1_df\n",
      "cohort1_male_pop2_exp1_out1_df\n",
      "cohort1_male_pop3_exp1_out1_df\n",
      "cohort1_female_pop1_exp1_out1_df\n",
      "cohort1_female_pop2_exp1_out1_df\n",
      "cohort1_female_pop3_exp1_out1_df\n",
      "cohort1_combined_pop1_exp1_out1_df\n",
      "cohort1_combined_pop2_exp1_out1_df\n",
      "cohort1_combined_pop3_exp1_out1_df\n",
      "cohort2_male_pop1_exp1_out1_df\n",
      "cohort2_male_pop2_exp1_out1_df\n",
      "cohort2_male_pop3_exp1_out1_df\n",
      "cohort2_female_pop1_exp1_out1_df\n",
      "cohort2_female_pop2_exp1_out1_df\n",
      "cohort2_female_pop3_exp1_out1_df\n",
      "cohort2_combined_pop1_exp1_out1_df\n",
      "cohort2_combined_pop2_exp1_out1_df\n",
      "cohort2_combined_pop3_exp1_out1_df\n",
      "  rsid   Cohort Group Population Exposure Outcome      Beta        SE  \\\n",
      "0  rs1  cohort1  male       pop1     exp1    out1 -0.248286  2.967537   \n",
      "1  rs2  cohort1  male       pop1     exp1    out1 -0.248286  2.396131   \n",
      "2  rs3  cohort1  male       pop1     exp1    out1 -0.248286  7.272539   \n",
      "3  rs4  cohort1  male       pop1     exp1    out1 -0.248286  9.628947   \n",
      "4  rs5  cohort1  male       pop1     exp1    out1 -0.248286  2.614471   \n",
      "\n",
      "    P_value  Effect_size       MAF  \n",
      "0  0.970626    -0.083667  0.344079  \n",
      "1  0.591247    -0.103619  0.055426  \n",
      "2  0.429590    -0.034140  0.353431  \n",
      "3  0.599130    -0.025785  0.308446  \n",
      "4  0.370615    -0.094966  0.252909  \n"
     ]
    }
   ],
   "source": [
    "# Loop through different combinations and generate summary statistics\n",
    "for cohort in cohorts:\n",
    "    for group in groups:\n",
    "        for pop in populations:\n",
    "            for exposure in exposures:\n",
    "                for outcome in outcomes:\n",
    "                    num_variants = len(df)\n",
    "                    beta, se, p_value, effect_size, MAF = generate_summary_stats(num_variants)\n",
    "                    \n",
    "                    # Create a variable name based on the combination\n",
    "                    var_name = f\"{cohort}_{group}_{pop}_{exposure}_{outcome}_df\"\n",
    "                    print(var_name)\n",
    "                    \n",
    "                    # Create a DataFrame for the current combination\n",
    "                    globals()[var_name] = pd.DataFrame({\n",
    "                        'rsid': rsid,\n",
    "                        'Cohort': cohort,\n",
    "                        'Group': group,\n",
    "                        'Population': pop,\n",
    "                        'Exposure': exposure,\n",
    "                        'Outcome': outcome,\n",
    "                        'Beta': beta,\n",
    "                        'SE': se,\n",
    "                        'P_value': p_value,\n",
    "                        'Effect_size': effect_size,\n",
    "                        'MAF': MAF\n",
    "                    })\n",
    "\n",
    "\n",
    "print(cohort1_male_pop1_exp1_out1_df.head())\n"
   ]
  },
  {
   "cell_type": "code",
   "execution_count": null,
   "metadata": {},
   "outputs": [],
   "source": []
  }
 ],
 "metadata": {
  "kernelspec": {
   "display_name": "Python 3",
   "language": "python",
   "name": "python3"
  },
  "language_info": {
   "codemirror_mode": {
    "name": "ipython",
    "version": 3
   },
   "file_extension": ".py",
   "mimetype": "text/x-python",
   "name": "python",
   "nbconvert_exporter": "python",
   "pygments_lexer": "ipython3",
   "version": "3.10.11"
  },
  "toc": {
   "base_numbering": 1,
   "nav_menu": {},
   "number_sections": true,
   "sideBar": true,
   "skip_h1_title": false,
   "title_cell": "Table of Contents",
   "title_sidebar": "Contents",
   "toc_cell": false,
   "toc_position": {},
   "toc_section_display": true,
   "toc_window_display": false
  }
 },
 "nbformat": 4,
 "nbformat_minor": 2
}
